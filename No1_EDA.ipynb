{
 "cells": [
  {
   "cell_type": "code",
   "execution_count": 3,
   "id": "f2de7ce5",
   "metadata": {},
   "outputs": [],
   "source": [
    "import pandas as pd\n",
    "import numpy as np\n",
    "import matplotlib.pyplot as plt\n",
    "import seaborn as sns"
   ]
  },
  {
   "cell_type": "code",
   "execution_count": 5,
   "id": "84bae910",
   "metadata": {},
   "outputs": [],
   "source": [
    "df = pd.read_excel(r'data.xlsx')"
   ]
  },
  {
   "cell_type": "code",
   "execution_count": 6,
   "id": "8dd1895f",
   "metadata": {},
   "outputs": [
    {
     "data": {
      "text/html": [
       "<div>\n",
       "<style scoped>\n",
       "    .dataframe tbody tr th:only-of-type {\n",
       "        vertical-align: middle;\n",
       "    }\n",
       "\n",
       "    .dataframe tbody tr th {\n",
       "        vertical-align: top;\n",
       "    }\n",
       "\n",
       "    .dataframe thead th {\n",
       "        text-align: right;\n",
       "    }\n",
       "</style>\n",
       "<table border=\"1\" class=\"dataframe\">\n",
       "  <thead>\n",
       "    <tr style=\"text-align: right;\">\n",
       "      <th></th>\n",
       "      <th>wilayah</th>\n",
       "      <th>bap_tilang</th>\n",
       "      <th>stop_operasi</th>\n",
       "      <th>bap_polisi</th>\n",
       "      <th>stop_operasi_polisi</th>\n",
       "      <th>penderekan</th>\n",
       "      <th>ocp_roda_dua</th>\n",
       "      <th>ocp_roda_empat</th>\n",
       "      <th>angkut_motor</th>\n",
       "      <th>bulan</th>\n",
       "      <th>nama_bulan</th>\n",
       "      <th>total_bap_tilang</th>\n",
       "    </tr>\n",
       "  </thead>\n",
       "  <tbody>\n",
       "    <tr>\n",
       "      <th>0</th>\n",
       "      <td>Bidang Dalops</td>\n",
       "      <td>44</td>\n",
       "      <td>139</td>\n",
       "      <td>0</td>\n",
       "      <td>0</td>\n",
       "      <td>73</td>\n",
       "      <td>0</td>\n",
       "      <td>0</td>\n",
       "      <td>0</td>\n",
       "      <td>Januari</td>\n",
       "      <td>januari</td>\n",
       "      <td>676.0</td>\n",
       "    </tr>\n",
       "    <tr>\n",
       "      <th>1</th>\n",
       "      <td>Sudinhub Jakarta Pusat</td>\n",
       "      <td>47</td>\n",
       "      <td>2</td>\n",
       "      <td>52</td>\n",
       "      <td>0</td>\n",
       "      <td>184</td>\n",
       "      <td>237</td>\n",
       "      <td>15</td>\n",
       "      <td>97</td>\n",
       "      <td>Januari</td>\n",
       "      <td>febuari</td>\n",
       "      <td>970.0</td>\n",
       "    </tr>\n",
       "    <tr>\n",
       "      <th>2</th>\n",
       "      <td>Sudinhub Jakarta Utara</td>\n",
       "      <td>166</td>\n",
       "      <td>27</td>\n",
       "      <td>0</td>\n",
       "      <td>0</td>\n",
       "      <td>174</td>\n",
       "      <td>0</td>\n",
       "      <td>0</td>\n",
       "      <td>0</td>\n",
       "      <td>Januari</td>\n",
       "      <td>maret</td>\n",
       "      <td>1483.0</td>\n",
       "    </tr>\n",
       "    <tr>\n",
       "      <th>3</th>\n",
       "      <td>Sudinhub Jakarta Selatan</td>\n",
       "      <td>44</td>\n",
       "      <td>1</td>\n",
       "      <td>0</td>\n",
       "      <td>0</td>\n",
       "      <td>61</td>\n",
       "      <td>42</td>\n",
       "      <td>75</td>\n",
       "      <td>0</td>\n",
       "      <td>Januari</td>\n",
       "      <td>april</td>\n",
       "      <td>1425.0</td>\n",
       "    </tr>\n",
       "    <tr>\n",
       "      <th>4</th>\n",
       "      <td>Sudinhub Jakarta Barat</td>\n",
       "      <td>184</td>\n",
       "      <td>70</td>\n",
       "      <td>0</td>\n",
       "      <td>0</td>\n",
       "      <td>202</td>\n",
       "      <td>10</td>\n",
       "      <td>5</td>\n",
       "      <td>0</td>\n",
       "      <td>Januari</td>\n",
       "      <td>mei</td>\n",
       "      <td>772.0</td>\n",
       "    </tr>\n",
       "  </tbody>\n",
       "</table>\n",
       "</div>"
      ],
      "text/plain": [
       "                    wilayah  bap_tilang  stop_operasi  bap_polisi  \\\n",
       "0             Bidang Dalops          44           139           0   \n",
       "1    Sudinhub Jakarta Pusat          47             2          52   \n",
       "2    Sudinhub Jakarta Utara         166            27           0   \n",
       "3  Sudinhub Jakarta Selatan          44             1           0   \n",
       "4    Sudinhub Jakarta Barat         184            70           0   \n",
       "\n",
       "   stop_operasi_polisi  penderekan  ocp_roda_dua  ocp_roda_empat  \\\n",
       "0                    0          73             0               0   \n",
       "1                    0         184           237              15   \n",
       "2                    0         174             0               0   \n",
       "3                    0          61            42              75   \n",
       "4                    0         202            10               5   \n",
       "\n",
       "   angkut_motor    bulan nama_bulan  total_bap_tilang  \n",
       "0             0  Januari    januari             676.0  \n",
       "1            97  Januari    febuari             970.0  \n",
       "2             0  Januari      maret            1483.0  \n",
       "3             0  Januari      april            1425.0  \n",
       "4             0  Januari        mei             772.0  "
      ]
     },
     "execution_count": 6,
     "metadata": {},
     "output_type": "execute_result"
    }
   ],
   "source": [
    "df.head()"
   ]
  },
  {
   "cell_type": "code",
   "execution_count": 7,
   "id": "12320028",
   "metadata": {},
   "outputs": [
    {
     "data": {
      "text/html": [
       "<div>\n",
       "<style scoped>\n",
       "    .dataframe tbody tr th:only-of-type {\n",
       "        vertical-align: middle;\n",
       "    }\n",
       "\n",
       "    .dataframe tbody tr th {\n",
       "        vertical-align: top;\n",
       "    }\n",
       "\n",
       "    .dataframe thead th {\n",
       "        text-align: right;\n",
       "    }\n",
       "</style>\n",
       "<table border=\"1\" class=\"dataframe\">\n",
       "  <thead>\n",
       "    <tr style=\"text-align: right;\">\n",
       "      <th></th>\n",
       "      <th>wilayah</th>\n",
       "      <th>bap_tilang</th>\n",
       "      <th>stop_operasi</th>\n",
       "      <th>bap_polisi</th>\n",
       "      <th>stop_operasi_polisi</th>\n",
       "      <th>penderekan</th>\n",
       "      <th>ocp_roda_dua</th>\n",
       "      <th>ocp_roda_empat</th>\n",
       "      <th>angkut_motor</th>\n",
       "      <th>bulan</th>\n",
       "      <th>nama_bulan</th>\n",
       "      <th>total_bap_tilang</th>\n",
       "    </tr>\n",
       "  </thead>\n",
       "  <tbody>\n",
       "    <tr>\n",
       "      <th>37</th>\n",
       "      <td>Sudinhub Jakarta Pusat</td>\n",
       "      <td>12</td>\n",
       "      <td>6</td>\n",
       "      <td>0</td>\n",
       "      <td>0</td>\n",
       "      <td>11</td>\n",
       "      <td>146</td>\n",
       "      <td>3</td>\n",
       "      <td>0</td>\n",
       "      <td>Juli</td>\n",
       "      <td>NaN</td>\n",
       "      <td>NaN</td>\n",
       "    </tr>\n",
       "    <tr>\n",
       "      <th>38</th>\n",
       "      <td>Sudinhub Jakarta Utara</td>\n",
       "      <td>224</td>\n",
       "      <td>20</td>\n",
       "      <td>24</td>\n",
       "      <td>0</td>\n",
       "      <td>54</td>\n",
       "      <td>0</td>\n",
       "      <td>0</td>\n",
       "      <td>19</td>\n",
       "      <td>Juli</td>\n",
       "      <td>NaN</td>\n",
       "      <td>NaN</td>\n",
       "    </tr>\n",
       "    <tr>\n",
       "      <th>39</th>\n",
       "      <td>Sudinhub Jakarta Selatan</td>\n",
       "      <td>95</td>\n",
       "      <td>2</td>\n",
       "      <td>8</td>\n",
       "      <td>0</td>\n",
       "      <td>25</td>\n",
       "      <td>160</td>\n",
       "      <td>6</td>\n",
       "      <td>0</td>\n",
       "      <td>Juli</td>\n",
       "      <td>NaN</td>\n",
       "      <td>NaN</td>\n",
       "    </tr>\n",
       "    <tr>\n",
       "      <th>40</th>\n",
       "      <td>Sudinhub Jakarta Barat</td>\n",
       "      <td>36</td>\n",
       "      <td>32</td>\n",
       "      <td>0</td>\n",
       "      <td>0</td>\n",
       "      <td>29</td>\n",
       "      <td>0</td>\n",
       "      <td>0</td>\n",
       "      <td>0</td>\n",
       "      <td>Juli</td>\n",
       "      <td>NaN</td>\n",
       "      <td>NaN</td>\n",
       "    </tr>\n",
       "    <tr>\n",
       "      <th>41</th>\n",
       "      <td>Sudinhub Jakarta Timur</td>\n",
       "      <td>104</td>\n",
       "      <td>72</td>\n",
       "      <td>0</td>\n",
       "      <td>0</td>\n",
       "      <td>110</td>\n",
       "      <td>0</td>\n",
       "      <td>0</td>\n",
       "      <td>0</td>\n",
       "      <td>Juli</td>\n",
       "      <td>NaN</td>\n",
       "      <td>NaN</td>\n",
       "    </tr>\n",
       "  </tbody>\n",
       "</table>\n",
       "</div>"
      ],
      "text/plain": [
       "                     wilayah  bap_tilang  stop_operasi  bap_polisi  \\\n",
       "37    Sudinhub Jakarta Pusat          12             6           0   \n",
       "38    Sudinhub Jakarta Utara         224            20          24   \n",
       "39  Sudinhub Jakarta Selatan          95             2           8   \n",
       "40    Sudinhub Jakarta Barat          36            32           0   \n",
       "41    Sudinhub Jakarta Timur         104            72           0   \n",
       "\n",
       "    stop_operasi_polisi  penderekan  ocp_roda_dua  ocp_roda_empat  \\\n",
       "37                    0          11           146               3   \n",
       "38                    0          54             0               0   \n",
       "39                    0          25           160               6   \n",
       "40                    0          29             0               0   \n",
       "41                    0         110             0               0   \n",
       "\n",
       "    angkut_motor bulan nama_bulan  total_bap_tilang  \n",
       "37             0  Juli        NaN               NaN  \n",
       "38            19  Juli        NaN               NaN  \n",
       "39             0  Juli        NaN               NaN  \n",
       "40             0  Juli        NaN               NaN  \n",
       "41             0  Juli        NaN               NaN  "
      ]
     },
     "execution_count": 7,
     "metadata": {},
     "output_type": "execute_result"
    }
   ],
   "source": [
    "df.tail()"
   ]
  },
  {
   "cell_type": "code",
   "execution_count": 8,
   "id": "0bcba83e",
   "metadata": {},
   "outputs": [
    {
     "data": {
      "text/plain": [
       "(42, 12)"
      ]
     },
     "execution_count": 8,
     "metadata": {},
     "output_type": "execute_result"
    }
   ],
   "source": [
    "df.shape"
   ]
  },
  {
   "cell_type": "code",
   "execution_count": 10,
   "id": "284432c8",
   "metadata": {},
   "outputs": [
    {
     "data": {
      "text/plain": [
       "wilayah                42\n",
       "bap_tilang             42\n",
       "stop_operasi           42\n",
       "bap_polisi             42\n",
       "stop_operasi_polisi    42\n",
       "penderekan             42\n",
       "ocp_roda_dua           42\n",
       "ocp_roda_empat         42\n",
       "angkut_motor           42\n",
       "bulan                  42\n",
       "nama_bulan              7\n",
       "total_bap_tilang        7\n",
       "dtype: int64"
      ]
     },
     "execution_count": 10,
     "metadata": {},
     "output_type": "execute_result"
    }
   ],
   "source": [
    "df.count()"
   ]
  },
  {
   "cell_type": "code",
   "execution_count": 11,
   "id": "529999c5",
   "metadata": {},
   "outputs": [
    {
     "data": {
      "text/html": [
       "<div>\n",
       "<style scoped>\n",
       "    .dataframe tbody tr th:only-of-type {\n",
       "        vertical-align: middle;\n",
       "    }\n",
       "\n",
       "    .dataframe tbody tr th {\n",
       "        vertical-align: top;\n",
       "    }\n",
       "\n",
       "    .dataframe thead th {\n",
       "        text-align: right;\n",
       "    }\n",
       "</style>\n",
       "<table border=\"1\" class=\"dataframe\">\n",
       "  <thead>\n",
       "    <tr style=\"text-align: right;\">\n",
       "      <th></th>\n",
       "      <th>bap_tilang</th>\n",
       "      <th>stop_operasi</th>\n",
       "      <th>bap_polisi</th>\n",
       "      <th>stop_operasi_polisi</th>\n",
       "      <th>penderekan</th>\n",
       "      <th>ocp_roda_dua</th>\n",
       "      <th>ocp_roda_empat</th>\n",
       "      <th>angkut_motor</th>\n",
       "      <th>total_bap_tilang</th>\n",
       "    </tr>\n",
       "  </thead>\n",
       "  <tbody>\n",
       "    <tr>\n",
       "      <th>count</th>\n",
       "      <td>42.000000</td>\n",
       "      <td>42.000000</td>\n",
       "      <td>42.000000</td>\n",
       "      <td>42.0</td>\n",
       "      <td>42.000000</td>\n",
       "      <td>42.000000</td>\n",
       "      <td>42.000000</td>\n",
       "      <td>42.000000</td>\n",
       "      <td>7.000000</td>\n",
       "    </tr>\n",
       "    <tr>\n",
       "      <th>mean</th>\n",
       "      <td>170.333333</td>\n",
       "      <td>62.690476</td>\n",
       "      <td>5.761905</td>\n",
       "      <td>0.0</td>\n",
       "      <td>160.285714</td>\n",
       "      <td>103.428571</td>\n",
       "      <td>13.809524</td>\n",
       "      <td>26.000000</td>\n",
       "      <td>1022.000000</td>\n",
       "    </tr>\n",
       "    <tr>\n",
       "      <th>std</th>\n",
       "      <td>120.502741</td>\n",
       "      <td>52.447645</td>\n",
       "      <td>12.930979</td>\n",
       "      <td>0.0</td>\n",
       "      <td>85.526001</td>\n",
       "      <td>178.136032</td>\n",
       "      <td>27.480581</td>\n",
       "      <td>78.057515</td>\n",
       "      <td>378.254764</td>\n",
       "    </tr>\n",
       "    <tr>\n",
       "      <th>min</th>\n",
       "      <td>12.000000</td>\n",
       "      <td>1.000000</td>\n",
       "      <td>0.000000</td>\n",
       "      <td>0.0</td>\n",
       "      <td>11.000000</td>\n",
       "      <td>0.000000</td>\n",
       "      <td>0.000000</td>\n",
       "      <td>0.000000</td>\n",
       "      <td>543.000000</td>\n",
       "    </tr>\n",
       "    <tr>\n",
       "      <th>25%</th>\n",
       "      <td>69.000000</td>\n",
       "      <td>20.250000</td>\n",
       "      <td>0.000000</td>\n",
       "      <td>0.0</td>\n",
       "      <td>98.000000</td>\n",
       "      <td>0.000000</td>\n",
       "      <td>0.000000</td>\n",
       "      <td>0.000000</td>\n",
       "      <td>724.000000</td>\n",
       "    </tr>\n",
       "    <tr>\n",
       "      <th>50%</th>\n",
       "      <td>164.000000</td>\n",
       "      <td>46.500000</td>\n",
       "      <td>0.000000</td>\n",
       "      <td>0.0</td>\n",
       "      <td>157.000000</td>\n",
       "      <td>5.000000</td>\n",
       "      <td>1.000000</td>\n",
       "      <td>0.000000</td>\n",
       "      <td>970.000000</td>\n",
       "    </tr>\n",
       "    <tr>\n",
       "      <th>75%</th>\n",
       "      <td>246.500000</td>\n",
       "      <td>105.500000</td>\n",
       "      <td>0.000000</td>\n",
       "      <td>0.0</td>\n",
       "      <td>205.250000</td>\n",
       "      <td>156.500000</td>\n",
       "      <td>7.500000</td>\n",
       "      <td>0.000000</td>\n",
       "      <td>1355.000000</td>\n",
       "    </tr>\n",
       "    <tr>\n",
       "      <th>max</th>\n",
       "      <td>479.000000</td>\n",
       "      <td>203.000000</td>\n",
       "      <td>52.000000</td>\n",
       "      <td>0.0</td>\n",
       "      <td>325.000000</td>\n",
       "      <td>806.000000</td>\n",
       "      <td>110.000000</td>\n",
       "      <td>414.000000</td>\n",
       "      <td>1483.000000</td>\n",
       "    </tr>\n",
       "  </tbody>\n",
       "</table>\n",
       "</div>"
      ],
      "text/plain": [
       "       bap_tilang  stop_operasi  bap_polisi  stop_operasi_polisi  penderekan  \\\n",
       "count   42.000000     42.000000   42.000000                 42.0   42.000000   \n",
       "mean   170.333333     62.690476    5.761905                  0.0  160.285714   \n",
       "std    120.502741     52.447645   12.930979                  0.0   85.526001   \n",
       "min     12.000000      1.000000    0.000000                  0.0   11.000000   \n",
       "25%     69.000000     20.250000    0.000000                  0.0   98.000000   \n",
       "50%    164.000000     46.500000    0.000000                  0.0  157.000000   \n",
       "75%    246.500000    105.500000    0.000000                  0.0  205.250000   \n",
       "max    479.000000    203.000000   52.000000                  0.0  325.000000   \n",
       "\n",
       "       ocp_roda_dua  ocp_roda_empat  angkut_motor  total_bap_tilang  \n",
       "count     42.000000       42.000000     42.000000          7.000000  \n",
       "mean     103.428571       13.809524     26.000000       1022.000000  \n",
       "std      178.136032       27.480581     78.057515        378.254764  \n",
       "min        0.000000        0.000000      0.000000        543.000000  \n",
       "25%        0.000000        0.000000      0.000000        724.000000  \n",
       "50%        5.000000        1.000000      0.000000        970.000000  \n",
       "75%      156.500000        7.500000      0.000000       1355.000000  \n",
       "max      806.000000      110.000000    414.000000       1483.000000  "
      ]
     },
     "execution_count": 11,
     "metadata": {},
     "output_type": "execute_result"
    }
   ],
   "source": [
    "df.describe()"
   ]
  },
  {
   "cell_type": "code",
   "execution_count": 12,
   "id": "72dc7e27",
   "metadata": {},
   "outputs": [
    {
     "data": {
      "text/plain": [
       "wilayah                 0\n",
       "bap_tilang              0\n",
       "stop_operasi            0\n",
       "bap_polisi              0\n",
       "stop_operasi_polisi     0\n",
       "penderekan              0\n",
       "ocp_roda_dua            0\n",
       "ocp_roda_empat          0\n",
       "angkut_motor            0\n",
       "bulan                   0\n",
       "nama_bulan             35\n",
       "total_bap_tilang       35\n",
       "dtype: int64"
      ]
     },
     "execution_count": 12,
     "metadata": {},
     "output_type": "execute_result"
    }
   ],
   "source": [
    "df.isnull().sum()"
   ]
  },
  {
   "cell_type": "code",
   "execution_count": 13,
   "id": "cb6625c6",
   "metadata": {},
   "outputs": [],
   "source": [
    "df.dropna(how='any', inplace=True)"
   ]
  },
  {
   "cell_type": "code",
   "execution_count": 14,
   "id": "d8ca6d8f",
   "metadata": {},
   "outputs": [
    {
     "data": {
      "image/png": "[encoded data removed]",
      "text/plain": [
       "<Figure size 1440x648 with 1 Axes>"
      ]
     },
     "metadata": {
      "needs_background": "light"
     },
     "output_type": "display_data"
    }
   ],
   "source": [
    "plt.figure(figsize=(20,9))\n",
    "sns.countplot(x = df['wilayah'])\n",
    "plt.show()"
   ]
  },
  {
   "cell_type": "code",
   "execution_count": 15,
   "id": "48df71c3",
   "metadata": {},
   "outputs": [
    {
     "data": {
      "image/png": "[encoded data removed]",
      "text/plain": [
       "<Figure size 1440x648 with 1 Axes>"
      ]
     },
     "metadata": {
      "needs_background": "light"
     },
     "output_type": "display_data"
    }
   ],
   "source": [
    "plt.figure(figsize=(20,9))\n",
    "sns.countplot(x = df['bap_tilang'])\n",
    "plt.show()"
   ]
  },
  {
   "cell_type": "code",
   "execution_count": 16,
   "id": "04d02ba8",
   "metadata": {},
   "outputs": [
    {
     "data": {
      "image/png": "[encoded data removed]",
      "text/plain": [
       "<Figure size 1440x576 with 1 Axes>"
      ]
     },
     "metadata": {
      "needs_background": "light"
     },
     "output_type": "display_data"
    }
   ],
   "source": [
    "plt.figure(figsize=(20,8))\n",
    "sns.countplot(x = df['stop_operasi'])\n",
    "plt.show()"
   ]
  },
  {
   "cell_type": "code",
   "execution_count": 18,
   "id": "27c22b99",
   "metadata": {},
   "outputs": [
    {
     "data": {
      "image/png": "[encoded data removed]",
      "text/plain": [
       "<Figure size 1440x360 with 1 Axes>"
      ]
     },
     "metadata": {
      "needs_background": "light"
     },
     "output_type": "display_data"
    }
   ],
   "source": [
    "plt.figure(figsize=(20,5))\n",
    "sns.countplot(x = df['penderekan'])\n",
    "plt.show()"
   ]
  }
 ],
 "metadata": {
  "kernelspec": {
   "display_name": "Python 3.7.7 64-bit",
   "language": "python",
   "name": "python3"
  },
  "language_info": {
   "codemirror_mode": {
    "name": "ipython",
    "version": 3
   },
   "file_extension": ".py",
   "mimetype": "text/x-python",
   "name": "python",
   "nbconvert_exporter": "python",
   "pygments_lexer": "ipython3",
   "version": "3.7.7"
  },
  "vscode": {
   "interpreter": {
    "hash": "999ea782e2d719ec62688e738a2ff20f2535cd73f1388dd13a2d835295a4fc1a"
   }
  }
 },
 "nbformat": 4,
 "nbformat_minor": 5
}
